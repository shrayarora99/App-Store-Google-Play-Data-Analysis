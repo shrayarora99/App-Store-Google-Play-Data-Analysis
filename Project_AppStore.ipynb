{
 "cells": [
  {
   "cell_type": "code",
   "execution_count": null,
   "metadata": {},
   "outputs": [],
   "source": [
    "# Profitable App Profiles for the App Store and Google Play Markets\n",
    "\n",
    "In this project, we will analyze mobile app data to help developers identify which types of apps are likely to attract more users on the App Store and Google Play. Since our company develops only free apps, the main source of revenue is through in-app advertisements. Therefore, increasing the user base for our apps directly correlates with generating more revenue.\n",
    "\n",
    "The goal of this project is to provide data-driven insights into app categories that are popular and profitable. We will work with two datasets — one from the App Store and one from Google Play — and use our Python programming skills to analyze these datasets and inform future app development decisions.\n"
   ]
  },
  {
   "cell_type": "code",
   "execution_count": 11,
   "metadata": {},
   "outputs": [
    {
     "ename": "ValueError",
     "evalue": "could not convert string to float: '3.0M'",
     "output_type": "error",
     "traceback": [
      "\u001b[0;31m---------------------------------------------------------------------------\u001b[0m",
      "\u001b[0;31mValueError\u001b[0m                                Traceback (most recent call last)",
      "\u001b[0;32m<ipython-input-11-e54f24c50a66>\u001b[0m in \u001b[0;36m<module>\u001b[0;34m\u001b[0m\n\u001b[1;32m      4\u001b[0m \u001b[0;32mfor\u001b[0m \u001b[0mapp\u001b[0m \u001b[0;32min\u001b[0m \u001b[0mgoogleplay_data\u001b[0m\u001b[0;34m[\u001b[0m\u001b[0;36m1\u001b[0m\u001b[0;34m:\u001b[0m\u001b[0;34m]\u001b[0m\u001b[0;34m:\u001b[0m  \u001b[0;31m# Exclude the header\u001b[0m\u001b[0;34m\u001b[0m\u001b[0;34m\u001b[0m\u001b[0m\n\u001b[1;32m      5\u001b[0m     \u001b[0mname\u001b[0m \u001b[0;34m=\u001b[0m \u001b[0mapp\u001b[0m\u001b[0;34m[\u001b[0m\u001b[0;36m0\u001b[0m\u001b[0;34m]\u001b[0m\u001b[0;34m\u001b[0m\u001b[0;34m\u001b[0m\u001b[0m\n\u001b[0;32m----> 6\u001b[0;31m     \u001b[0mn_reviews\u001b[0m \u001b[0;34m=\u001b[0m \u001b[0mfloat\u001b[0m\u001b[0;34m(\u001b[0m\u001b[0mapp\u001b[0m\u001b[0;34m[\u001b[0m\u001b[0;36m3\u001b[0m\u001b[0;34m]\u001b[0m\u001b[0;34m)\u001b[0m\u001b[0;34m\u001b[0m\u001b[0;34m\u001b[0m\u001b[0m\n\u001b[0m\u001b[1;32m      7\u001b[0m \u001b[0;34m\u001b[0m\u001b[0m\n\u001b[1;32m      8\u001b[0m     \u001b[0;31m# Keep only the row with the maximum number of reviews for each app\u001b[0m\u001b[0;34m\u001b[0m\u001b[0;34m\u001b[0m\u001b[0;34m\u001b[0m\u001b[0m\n",
      "\u001b[0;31mValueError\u001b[0m: could not convert string to float: '3.0M'"
     ]
    }
   ],
   "source": [
    "android_clean = []  # This will store the cleaned data\n",
    "already_added = []  # This will store the names of apps already added\n",
    "\n",
    "for app in googleplay_data[1:]:  # Exclude the header\n",
    "    name = app[0]\n",
    "    n_reviews = float(app[3])\n",
    "\n",
    "    # Keep only the row with the maximum number of reviews for each app\n",
    "    if (n_reviews == reviews_max[name]) and (name not in already_added):\n",
    "        android_clean.append(app)\n",
    "        already_added.append(name)\n",
    "\n",
    "# Check the number of rows in the cleaned dataset (should be 9,659)\n",
    "print(f\"Number of rows in the cleaned dataset: {len(android_clean)}\")\n"
   ]
  },
  {
   "cell_type": "code",
   "execution_count": 5,
   "metadata": {},
   "outputs": [
    {
     "name": "stdout",
     "output_type": "stream",
     "text": [
      "Google Play Data (First 5 rows):\n",
      "['App', 'Category', 'Rating', 'Reviews', 'Size', 'Installs', 'Type', 'Price', 'Content Rating', 'Genres', 'Last Updated', 'Current Ver', 'Android Ver']\n",
      "['Photo Editor & Candy Camera & Grid & ScrapBook', 'ART_AND_DESIGN', '4.1', '159', '19M', '10,000+', 'Free', '0', 'Everyone', 'Art & Design', 'January 7, 2018', '1.0.0', '4.0.3 and up']\n",
      "['Coloring book moana', 'ART_AND_DESIGN', '3.9', '967', '14M', '500,000+', 'Free', '0', 'Everyone', 'Art & Design;Pretend Play', 'January 15, 2018', '2.0.0', '4.0.3 and up']\n",
      "['U Launcher Lite – FREE Live Cool Themes, Hide Apps', 'ART_AND_DESIGN', '4.7', '87510', '8.7M', '5,000,000+', 'Free', '0', 'Everyone', 'Art & Design', 'August 1, 2018', '1.2.4', '4.0.3 and up']\n",
      "['Sketch - Draw & Paint', 'ART_AND_DESIGN', '4.5', '215644', '25M', '50,000,000+', 'Free', '0', 'Teen', 'Art & Design', 'June 8, 2018', 'Varies with device', '4.2 and up']\n",
      "\n",
      "Google Play User Reviews Data (First 5 rows):\n",
      "['App', 'Translated_Review', 'Sentiment', 'Sentiment_Polarity', 'Sentiment_Subjectivity']\n",
      "['10 Best Foods for You', 'I like eat delicious food. That\\'s I\\'m cooking food myself, case \"10 Best Foods\" helps lot, also \"Best Before (Shelf Life)\"', 'Positive', '1.0', '0.5333333333333333']\n",
      "['10 Best Foods for You', 'This help eating healthy exercise regular basis', 'Positive', '0.25', '0.28846153846153844']\n",
      "['10 Best Foods for You', 'nan', 'nan', 'nan', 'nan']\n",
      "['10 Best Foods for You', 'Works great especially going grocery store', 'Positive', '0.4', '0.875']\n"
     ]
    }
   ],
   "source": [
    "import csv\n",
    "\n",
    "# Open and read the uploaded Google Play dataset\n",
    "with open('googleplaystore.csv', encoding='utf8') as file:\n",
    "    googleplay_data = list(csv.reader(file))\n",
    "\n",
    "# Open and read the uploaded Google Play User Reviews dataset\n",
    "with open('googleplaystore_user_reviews.csv', encoding='utf8') as file:\n",
    "    user_reviews_data = list(csv.reader(file))\n",
    "\n",
    "# Explore the first few rows of both datasets to ensure they load correctly\n",
    "print(\"Google Play Data (First 5 rows):\")\n",
    "for row in googleplay_data[:5]:\n",
    "    print(row)\n",
    "\n",
    "print(\"\\nGoogle Play User Reviews Data (First 5 rows):\")\n",
    "for row in user_reviews_data[:5]:\n",
    "    print(row)\n"
   ]
  },
  {
   "cell_type": "code",
   "execution_count": 6,
   "metadata": {},
   "outputs": [
    {
     "name": "stdout",
     "output_type": "stream",
     "text": [
      "['googleplaystore_user_reviews.csv', 'AppleStore.csv', '.ipynb_checkpoints', 'Basics.ipynb', 'googleplaystore.csv']\n"
     ]
    }
   ],
   "source": [
    "import os\n",
    "\n",
    "# List all files in the current directory to check for the correct filenames\n",
    "print(os.listdir())\n"
   ]
  },
  {
   "cell_type": "code",
   "execution_count": 7,
   "metadata": {},
   "outputs": [],
   "source": [
    "def explore_data(dataset, start, end, rows_and_columns=False):\n",
    "    dataset_slice = dataset[start:end]    \n",
    "    for row in dataset_slice:\n",
    "        print(row)\n",
    "        print('\\n')  # adds a new (empty) line after each row\n",
    "\n",
    "    if rows_and_columns:\n",
    "        print('Number of rows:', len(dataset))\n",
    "        print('Number of columns:', len(dataset[0]))\n"
   ]
  },
  {
   "cell_type": "code",
   "execution_count": 8,
   "metadata": {},
   "outputs": [
    {
     "name": "stdout",
     "output_type": "stream",
     "text": [
      "Google Play Data (First 5 rows):\n",
      "['App', 'Category', 'Rating', 'Reviews', 'Size', 'Installs', 'Type', 'Price', 'Content Rating', 'Genres', 'Last Updated', 'Current Ver', 'Android Ver']\n",
      "\n",
      "\n",
      "['Photo Editor & Candy Camera & Grid & ScrapBook', 'ART_AND_DESIGN', '4.1', '159', '19M', '10,000+', 'Free', '0', 'Everyone', 'Art & Design', 'January 7, 2018', '1.0.0', '4.0.3 and up']\n",
      "\n",
      "\n",
      "['Coloring book moana', 'ART_AND_DESIGN', '3.9', '967', '14M', '500,000+', 'Free', '0', 'Everyone', 'Art & Design;Pretend Play', 'January 15, 2018', '2.0.0', '4.0.3 and up']\n",
      "\n",
      "\n",
      "['U Launcher Lite – FREE Live Cool Themes, Hide Apps', 'ART_AND_DESIGN', '4.7', '87510', '8.7M', '5,000,000+', 'Free', '0', 'Everyone', 'Art & Design', 'August 1, 2018', '1.2.4', '4.0.3 and up']\n",
      "\n",
      "\n",
      "['Sketch - Draw & Paint', 'ART_AND_DESIGN', '4.5', '215644', '25M', '50,000,000+', 'Free', '0', 'Teen', 'Art & Design', 'June 8, 2018', 'Varies with device', '4.2 and up']\n",
      "\n",
      "\n",
      "Number of rows: 10842\n",
      "Number of columns: 13\n",
      "\n",
      "Google Play User Reviews Data (First 5 rows):\n",
      "['App', 'Translated_Review', 'Sentiment', 'Sentiment_Polarity', 'Sentiment_Subjectivity']\n",
      "\n",
      "\n",
      "['10 Best Foods for You', 'I like eat delicious food. That\\'s I\\'m cooking food myself, case \"10 Best Foods\" helps lot, also \"Best Before (Shelf Life)\"', 'Positive', '1.0', '0.5333333333333333']\n",
      "\n",
      "\n",
      "['10 Best Foods for You', 'This help eating healthy exercise regular basis', 'Positive', '0.25', '0.28846153846153844']\n",
      "\n",
      "\n",
      "['10 Best Foods for You', 'nan', 'nan', 'nan', 'nan']\n",
      "\n",
      "\n",
      "['10 Best Foods for You', 'Works great especially going grocery store', 'Positive', '0.4', '0.875']\n",
      "\n",
      "\n",
      "Number of rows: 64296\n",
      "Number of columns: 5\n",
      "\n",
      "Apple Store Data (First 5 rows):\n",
      "['id', 'track_name', 'size_bytes', 'currency', 'price', 'rating_count_tot', 'rating_count_ver', 'user_rating', 'user_rating_ver', 'ver', 'cont_rating', 'prime_genre', 'sup_devices.num', 'ipadSc_urls.num', 'lang.num', 'vpp_lic']\n",
      "\n",
      "\n",
      "['284882215', 'Facebook', '389879808', 'USD', '0.0', '2974676', '212', '3.5', '3.5', '95.0', '4+', 'Social Networking', '37', '1', '29', '1']\n",
      "\n",
      "\n",
      "['389801252', 'Instagram', '113954816', 'USD', '0.0', '2161558', '1289', '4.5', '4.0', '10.23', '12+', 'Photo & Video', '37', '0', '29', '1']\n",
      "\n",
      "\n",
      "['529479190', 'Clash of Clans', '116476928', 'USD', '0.0', '2130805', '579', '4.5', '4.5', '9.24.12', '9+', 'Games', '38', '5', '18', '1']\n",
      "\n",
      "\n",
      "['420009108', 'Temple Run', '65921024', 'USD', '0.0', '1724546', '3842', '4.5', '4.0', '1.6.2', '9+', 'Games', '40', '5', '1', '1']\n",
      "\n",
      "\n",
      "Number of rows: 7198\n",
      "Number of columns: 16\n"
     ]
    }
   ],
   "source": [
    "# Open and read the Apple Store dataset\n",
    "with open('AppleStore.csv', encoding='utf8') as file:\n",
    "    applestore_data = list(csv.reader(file))\n",
    "\n",
    "# Explore the first few rows of each dataset\n",
    "\n",
    "print(\"Google Play Data (First 5 rows):\")\n",
    "explore_data(googleplay_data, 0, 5, True)\n",
    "\n",
    "print(\"\\nGoogle Play User Reviews Data (First 5 rows):\")\n",
    "explore_data(user_reviews_data, 0, 5, True)\n",
    "\n",
    "print(\"\\nApple Store Data (First 5 rows):\")\n",
    "explore_data(applestore_data, 0, 5, True)\n"
   ]
  },
  {
   "cell_type": "code",
   "execution_count": 9,
   "metadata": {},
   "outputs": [
    {
     "name": "stdout",
     "output_type": "stream",
     "text": [
      "Google Play Column Names:\n",
      "['App', 'Category', 'Rating', 'Reviews', 'Size', 'Installs', 'Type', 'Price', 'Content Rating', 'Genres', 'Last Updated', 'Current Ver', 'Android Ver']\n",
      "Google Play User Reviews Column Names:\n",
      "['App', 'Translated_Review', 'Sentiment', 'Sentiment_Polarity', 'Sentiment_Subjectivity']\n",
      "Apple Store Column Names:\n",
      "['id', 'track_name', 'size_bytes', 'currency', 'price', 'rating_count_tot', 'rating_count_ver', 'user_rating', 'user_rating_ver', 'ver', 'cont_rating', 'prime_genre', 'sup_devices.num', 'ipadSc_urls.num', 'lang.num', 'vpp_lic']\n"
     ]
    }
   ],
   "source": [
    "# Print column names for Google Play dataset\n",
    "print(\"Google Play Column Names:\")\n",
    "print(googleplay_data[0])\n",
    "\n",
    "# Print column names for Google Play User Reviews dataset\n",
    "print(\"Google Play User Reviews Column Names:\")\n",
    "print(user_reviews_data[0])\n",
    "\n",
    "# Print column names for Apple Store dataset\n",
    "print(\"Apple Store Column Names:\")\n",
    "print(applestore_data[0])\n"
   ]
  },
  {
   "cell_type": "code",
   "execution_count": 10,
   "metadata": {},
   "outputs": [
    {
     "name": "stdout",
     "output_type": "stream",
     "text": [
      "['Xposed Wi-Fi-Pwd', 'PERSONALIZATION', '3.5', '1042', '404k', '100,000+', 'Free', '0', 'Everyone', 'Personalization', 'August 5, 2014', '3.0.0', '4.0.3 and up']\n"
     ]
    }
   ],
   "source": [
    "# Print the row at index 10472 in the Google Play dataset\n",
    "print(googleplay_data[10472])\n"
   ]
  },
  {
   "cell_type": "code",
   "execution_count": 12,
   "metadata": {},
   "outputs": [
    {
     "name": "stdout",
     "output_type": "stream",
     "text": [
      "Number of duplicate apps: 1181\n",
      "Examples of duplicate apps: ['Quick PDF Scanner + OCR FREE', 'Box', 'Google My Business', 'ZOOM Cloud Meetings', 'join.me - Simple Meetings', 'Box', 'Zenefits', 'Google Ads', 'Google My Business', 'Slack']\n"
     ]
    }
   ],
   "source": [
    "# Create two lists: one for duplicate apps and one for unique apps\n",
    "duplicate_apps = []\n",
    "unique_apps = []\n",
    "\n",
    "# Loop through the Google Play dataset (excluding the header)\n",
    "for app in googleplay_data[1:]:\n",
    "    name = app[0]  # App name is the first element\n",
    "    if name in unique_apps:\n",
    "        duplicate_apps.append(name)\n",
    "    else:\n",
    "        unique_apps.append(name)\n",
    "\n",
    "# Print the number of duplicate apps\n",
    "print('Number of duplicate apps:', len(duplicate_apps))\n",
    "\n",
    "# Print a few duplicate app names to confirm\n",
    "print('Examples of duplicate apps:', duplicate_apps[:10])"
   ]
  },
  {
   "cell_type": "code",
   "execution_count": 1,
   "metadata": {},
   "outputs": [
    {
     "ename": "NameError",
     "evalue": "name 'googleplay_data' is not defined",
     "output_type": "error",
     "traceback": [
      "\u001b[0;31m---------------------------------------------------------------------------\u001b[0m",
      "\u001b[0;31mNameError\u001b[0m                                 Traceback (most recent call last)",
      "\u001b[0;32m<ipython-input-1-25519b91b318>\u001b[0m in \u001b[0;36m<module>\u001b[0;34m\u001b[0m\n\u001b[1;32m      1\u001b[0m \u001b[0;31m# Remove the row at index 10472\u001b[0m\u001b[0;34m\u001b[0m\u001b[0;34m\u001b[0m\u001b[0;34m\u001b[0m\u001b[0m\n\u001b[0;32m----> 2\u001b[0;31m \u001b[0;32mdel\u001b[0m \u001b[0mgoogleplay_data\u001b[0m\u001b[0;34m[\u001b[0m\u001b[0;36m10472\u001b[0m\u001b[0;34m]\u001b[0m\u001b[0;34m\u001b[0m\u001b[0;34m\u001b[0m\u001b[0m\n\u001b[0m",
      "\u001b[0;31mNameError\u001b[0m: name 'googleplay_data' is not defined"
     ]
    }
   ],
   "source": [
    "# Remove the row at index 10472\n",
    "del googleplay_data[10472]\n"
   ]
  },
  {
   "cell_type": "code",
   "execution_count": 2,
   "metadata": {},
   "outputs": [
    {
     "ename": "NameError",
     "evalue": "name 'googleplay_data' is not defined",
     "output_type": "error",
     "traceback": [
      "\u001b[0;31m---------------------------------------------------------------------------\u001b[0m",
      "\u001b[0;31mNameError\u001b[0m                                 Traceback (most recent call last)",
      "\u001b[0;32m<ipython-input-2-25519b91b318>\u001b[0m in \u001b[0;36m<module>\u001b[0;34m\u001b[0m\n\u001b[1;32m      1\u001b[0m \u001b[0;31m# Remove the row at index 10472\u001b[0m\u001b[0;34m\u001b[0m\u001b[0;34m\u001b[0m\u001b[0;34m\u001b[0m\u001b[0m\n\u001b[0;32m----> 2\u001b[0;31m \u001b[0;32mdel\u001b[0m \u001b[0mgoogleplay_data\u001b[0m\u001b[0;34m[\u001b[0m\u001b[0;36m10472\u001b[0m\u001b[0;34m]\u001b[0m\u001b[0;34m\u001b[0m\u001b[0;34m\u001b[0m\u001b[0m\n\u001b[0m",
      "\u001b[0;31mNameError\u001b[0m: name 'googleplay_data' is not defined"
     ]
    }
   ],
   "source": [
    "# Remove the row at index 10472\n",
    "del googleplay_data[10472]\n"
   ]
  },
  {
   "cell_type": "code",
   "execution_count": 4,
   "metadata": {},
   "outputs": [],
   "source": [
    "import csv\n",
    "\n",
    "# Open and read the Google Play dataset\n",
    "with open('googleplaystore.csv', encoding='utf8') as file:\n",
    "    googleplay_data = list(csv.reader(file))\n",
    "\n",
    "    "
   ]
  },
  {
   "cell_type": "code",
   "execution_count": 5,
   "metadata": {},
   "outputs": [],
   "source": [
    "# Remove the row at index 10472\n",
    "del googleplay_data[10472]\n"
   ]
  },
  {
   "cell_type": "code",
   "execution_count": 6,
   "metadata": {},
   "outputs": [
    {
     "name": "stdout",
     "output_type": "stream",
     "text": [
      "[['Jazz Wi-Fi', 'COMMUNICATION', '3.4', '49', '4.0M', '10,000+', 'Free', '0', 'Everyone', 'Communication', 'February 10, 2017', '0.1', '2.3 and up'], ['Life Made WI-Fi Touchscreen Photo Frame', '1.9', '19', '3.0M', '1,000+', 'Free', '0', 'Everyone', '', 'February 11, 2018', '1.0.19', '4.0 and up']]\n"
     ]
    }
   ],
   "source": [
    "# Print the row at index 10472 to confirm it has been removed\n",
    "print(googleplay_data[10471:10473])\n"
   ]
  },
  {
   "cell_type": "code",
   "execution_count": 7,
   "metadata": {},
   "outputs": [
    {
     "name": "stdout",
     "output_type": "stream",
     "text": [
      "Number of duplicate apps: 1181\n",
      "Examples of duplicate apps: ['Quick PDF Scanner + OCR FREE', 'Box', 'Google My Business', 'ZOOM Cloud Meetings', 'join.me - Simple Meetings', 'Box', 'Zenefits', 'Google Ads', 'Google My Business', 'Slack']\n"
     ]
    }
   ],
   "source": [
    "# Create two lists: one for duplicate apps and one for unique apps\n",
    "duplicate_apps = []\n",
    "unique_apps = []\n",
    "\n",
    "# Loop through the Google Play dataset (excluding the header)\n",
    "for app in googleplay_data[1:]:  # Start from index 1 to skip the header\n",
    "    name = app[0]  # App name is the first element in each row\n",
    "    if name in unique_apps:\n",
    "        duplicate_apps.append(name)\n",
    "    else:\n",
    "        unique_apps.append(name)\n",
    "\n",
    "# Print the number of duplicate apps\n",
    "print('Number of duplicate apps:', len(duplicate_apps))\n",
    "\n",
    "# Print a few duplicate app names to confirm\n",
    "print('Examples of duplicate apps:', duplicate_apps[:10])\n"
   ]
  },
  {
   "cell_type": "code",
   "execution_count": 8,
   "metadata": {},
   "outputs": [
    {
     "ename": "ValueError",
     "evalue": "could not convert string to float: '3.0M'",
     "output_type": "error",
     "traceback": [
      "\u001b[0;31m---------------------------------------------------------------------------\u001b[0m",
      "\u001b[0;31mValueError\u001b[0m                                Traceback (most recent call last)",
      "\u001b[0;32m<ipython-input-8-25c0a2df465b>\u001b[0m in \u001b[0;36m<module>\u001b[0;34m\u001b[0m\n\u001b[1;32m      5\u001b[0m \u001b[0;32mfor\u001b[0m \u001b[0mapp\u001b[0m \u001b[0;32min\u001b[0m \u001b[0mgoogleplay_data\u001b[0m\u001b[0;34m[\u001b[0m\u001b[0;36m1\u001b[0m\u001b[0;34m:\u001b[0m\u001b[0;34m]\u001b[0m\u001b[0;34m:\u001b[0m\u001b[0;34m\u001b[0m\u001b[0;34m\u001b[0m\u001b[0m\n\u001b[1;32m      6\u001b[0m     \u001b[0mname\u001b[0m \u001b[0;34m=\u001b[0m \u001b[0mapp\u001b[0m\u001b[0;34m[\u001b[0m\u001b[0;36m0\u001b[0m\u001b[0;34m]\u001b[0m\u001b[0;34m\u001b[0m\u001b[0;34m\u001b[0m\u001b[0m\n\u001b[0;32m----> 7\u001b[0;31m     \u001b[0mn_reviews\u001b[0m \u001b[0;34m=\u001b[0m \u001b[0mfloat\u001b[0m\u001b[0;34m(\u001b[0m\u001b[0mapp\u001b[0m\u001b[0;34m[\u001b[0m\u001b[0;36m3\u001b[0m\u001b[0;34m]\u001b[0m\u001b[0;34m)\u001b[0m  \u001b[0;31m# Number of reviews (convert to float)\u001b[0m\u001b[0;34m\u001b[0m\u001b[0;34m\u001b[0m\u001b[0m\n\u001b[0m\u001b[1;32m      8\u001b[0m \u001b[0;34m\u001b[0m\u001b[0m\n\u001b[1;32m      9\u001b[0m     \u001b[0;31m# If the app is already in the dictionary, keep the entry with the higher number of reviews\u001b[0m\u001b[0;34m\u001b[0m\u001b[0;34m\u001b[0m\u001b[0;34m\u001b[0m\u001b[0m\n",
      "\u001b[0;31mValueError\u001b[0m: could not convert string to float: '3.0M'"
     ]
    }
   ],
   "source": [
    "# Create a dictionary to store the app with the highest number of reviews\n",
    "reviews_max = {}\n",
    "\n",
    "# Loop through the dataset to populate the dictionary\n",
    "for app in googleplay_data[1:]:\n",
    "    name = app[0]\n",
    "    n_reviews = float(app[3])  # Number of reviews (convert to float)\n",
    "\n",
    "    # If the app is already in the dictionary, keep the entry with the higher number of reviews\n",
    "    if name in reviews_max:\n",
    "        if reviews_max[name] < n_reviews:\n",
    "            reviews_max[name] = n_reviews\n",
    "    else:\n",
    "        reviews_max[name] = n_reviews\n",
    "\n",
    "# Create a new dataset with only unique apps\n",
    "googleplay_clean = []\n",
    "already_added = []\n",
    "\n",
    "# Loop through the dataset again and keep only the rows with the highest number of reviews\n",
    "for app in googleplay_data[1:]:\n",
    "    name = app[0]\n",
    "    n_reviews = float(app[3])\n",
    "    \n",
    "    # If this row has the highest number of reviews and the app hasn't been added yet, keep it\n",
    "    if (reviews_max[name] == n_reviews) and (name not in already_added):\n",
    "        googleplay_clean.append(app)\n",
    "        already_added.append(name)\n",
    "\n",
    "# Print the number of rows in the cleaned dataset to verify\n",
    "print('Expected rows after removing duplicates:', len(googleplay_clean))\n"
   ]
  },
  {
   "cell_type": "code",
   "execution_count": 9,
   "metadata": {},
   "outputs": [
    {
     "name": "stdout",
     "output_type": "stream",
     "text": [
      "Expected rows after removing duplicates: 9659\n"
     ]
    }
   ],
   "source": [
    "# Function to clean and convert the 'Reviews' column to a float\n",
    "def convert_reviews(reviews_str):\n",
    "    if 'M' in reviews_str:\n",
    "        return float(reviews_str.replace('M', '')) * 1_000_000  # Convert 'M' to millions\n",
    "    elif 'k' in reviews_str:\n",
    "        return float(reviews_str.replace('k', '')) * 1_000  # Convert 'k' to thousands\n",
    "    else:\n",
    "        return float(reviews_str)  # If no 'M' or 'k', convert directly to float\n",
    "\n",
    "# Create a dictionary to store the app with the highest number of reviews\n",
    "reviews_max = {}\n",
    "\n",
    "# Loop through the dataset to populate the dictionary\n",
    "for app in googleplay_data[1:]:\n",
    "    name = app[0]\n",
    "    try:\n",
    "        n_reviews = convert_reviews(app[3])  # Clean and convert the 'Reviews' column\n",
    "    except ValueError:\n",
    "        continue  # Skip the row if there's an issue with conversion\n",
    "\n",
    "    # If the app is already in the dictionary, keep the entry with the higher number of reviews\n",
    "    if name in reviews_max:\n",
    "        if reviews_max[name] < n_reviews:\n",
    "            reviews_max[name] = n_reviews\n",
    "    else:\n",
    "        reviews_max[name] = n_reviews\n",
    "\n",
    "# Create a new dataset with only unique apps\n",
    "googleplay_clean = []\n",
    "already_added = []\n",
    "\n",
    "# Loop through the dataset again and keep only the rows with the highest number of reviews\n",
    "for app in googleplay_data[1:]:\n",
    "    name = app[0]\n",
    "    n_reviews = convert_reviews(app[3])\n",
    "\n",
    "    # If this row has the highest number of reviews and the app hasn't been added yet, keep it\n",
    "    if (reviews_max[name] == n_reviews) and (name not in already_added):\n",
    "        googleplay_clean.append(app)\n",
    "        already_added.append(name)\n",
    "\n",
    "# Print the number of rows in the cleaned dataset to verify\n",
    "print('Expected rows after removing duplicates:', len(googleplay_clean))\n",
    "\n"
   ]
  },
  {
   "cell_type": "code",
   "execution_count": 10,
   "metadata": {},
   "outputs": [
    {
     "name": "stdout",
     "output_type": "stream",
     "text": [
      "Number of English apps: 9614\n"
     ]
    }
   ],
   "source": [
    "# Function to check if the app name is in English\n",
    "def is_english(string):\n",
    "    count_non_english = 0\n",
    "    for char in string:\n",
    "        if ord(char) > 127:  # Non-ASCII characters have an ord value greater than 127\n",
    "            count_non_english += 1\n",
    "        if count_non_english > 3:  # Allowing up to 3 non-English characters (for things like emojis)\n",
    "            return False\n",
    "    return True\n",
    "\n",
    "# Filter out non-English apps\n",
    "googleplay_clean_english = [app for app in googleplay_clean if is_english(app[0])]\n",
    "\n",
    "# Print the number of apps remaining after removing non-English apps\n",
    "print('Number of English apps:', len(googleplay_clean_english))\n"
   ]
  },
  {
   "cell_type": "code",
   "execution_count": 11,
   "metadata": {},
   "outputs": [
    {
     "name": "stdout",
     "output_type": "stream",
     "text": [
      "Number of free apps: 8862\n"
     ]
    }
   ],
   "source": [
    "# Filter out non-free apps\n",
    "googleplay_final = [app for app in googleplay_clean_english if app[6] == 'Free']\n",
    "\n",
    "# Print the number of free apps remaining\n",
    "print('Number of free apps:', len(googleplay_final))\n"
   ]
  },
  {
   "cell_type": "code",
   "execution_count": 13,
   "metadata": {},
   "outputs": [],
   "source": [
    "# Function to clean and convert the 'Reviews' column to a float\n",
    "def convert_reviews(reviews_str):\n",
    "    if 'M' in reviews_str:\n",
    "        return float(reviews_str.replace('M', '')) * 1_000_000  # Convert 'M' to millions\n",
    "    elif 'k' in reviews_str:\n",
    "        return float(reviews_str.replace('k', '')) * 1_000  # Convert 'k' to thousands\n",
    "    else:\n",
    "        return float(reviews_str)  # If no 'M' or 'k', convert directly to float\n"
   ]
  },
  {
   "cell_type": "code",
   "execution_count": 14,
   "metadata": {},
   "outputs": [
    {
     "name": "stdout",
     "output_type": "stream",
     "text": [
      "Expected number of unique apps: 9659\n"
     ]
    }
   ],
   "source": [
    "# Create a dictionary to store the app with the highest number of reviews\n",
    "reviews_max = {}\n",
    "\n",
    "# Loop through the dataset (excluding the header)\n",
    "for app in googleplay_data[1:]:\n",
    "    name = app[0]  # App name is the first element\n",
    "    try:\n",
    "        n_reviews = convert_reviews(app[3])  # Clean and convert the 'Reviews' column\n",
    "    except ValueError:\n",
    "        continue  # Skip rows with invalid data\n",
    "\n",
    "    # If the app is already in the dictionary, update it if the current entry has more reviews\n",
    "    if name in reviews_max:\n",
    "        if reviews_max[name] < n_reviews:\n",
    "            reviews_max[name] = n_reviews\n",
    "    else:\n",
    "        reviews_max[name] = n_reviews\n",
    "\n",
    "# Print the number of unique apps (should be 9,659)\n",
    "print('Expected number of unique apps:', len(reviews_max))\n"
   ]
  },
  {
   "cell_type": "code",
   "execution_count": 15,
   "metadata": {},
   "outputs": [
    {
     "name": "stdout",
     "output_type": "stream",
     "text": [
      "Number of rows in the cleaned dataset: 9659\n"
     ]
    }
   ],
   "source": [
    "# Create two empty lists: one for the cleaned dataset and one to track added app names\n",
    "android_clean = []\n",
    "already_added = []\n",
    "\n",
    "# Loop through the dataset again to remove duplicates\n",
    "for app in googleplay_data[1:]:\n",
    "    name = app[0]\n",
    "    n_reviews = convert_reviews(app[3])  # Convert the number of reviews\n",
    "\n",
    "    # If the current entry matches the max reviews and hasn't been added yet, keep it\n",
    "    if (reviews_max[name] == n_reviews) and (name not in already_added):\n",
    "        android_clean.append(app)  # Add the app to the clean list\n",
    "        already_added.append(name)  # Track added apps\n",
    "\n",
    "# Print the number of rows in the cleaned dataset (should be 9,659)\n",
    "print('Number of rows in the cleaned dataset:', len(android_clean))\n"
   ]
  },
  {
   "cell_type": "code",
   "execution_count": 16,
   "metadata": {},
   "outputs": [],
   "source": [
    "# Function to detect if a string is in English\n",
    "def is_english(string):\n",
    "    for char in string:\n",
    "        if ord(char) > 127:  # If the character's ASCII value is greater than 127\n",
    "            return False  # It's likely a non-English app name\n",
    "    return True  # If all characters are within the ASCII range for English\n"
   ]
  },
  {
   "cell_type": "code",
   "execution_count": 17,
   "metadata": {},
   "outputs": [
    {
     "name": "stdout",
     "output_type": "stream",
     "text": [
      "True\n",
      "False\n",
      "False\n",
      "False\n"
     ]
    }
   ],
   "source": [
    "# Test the function with the given app names\n",
    "print(is_english('Instagram'))  # Expected output: True\n",
    "print(is_english('爱奇艺PPS -《欢乐颂2》电视剧热播'))  # Expected output: False\n",
    "print(is_english('Docs To Go™ Free Office Suite'))  # Expected output: False (™ symbol)\n",
    "print(is_english('Instachat 😜'))  # Expected output: False (emoji)\n"
   ]
  },
  {
   "cell_type": "code",
   "execution_count": 18,
   "metadata": {},
   "outputs": [
    {
     "name": "stdout",
     "output_type": "stream",
     "text": [
      "Number of English apps: 9117\n"
     ]
    }
   ],
   "source": [
    "# Filter out non-English apps from the cleaned dataset\n",
    "googleplay_english = [app for app in android_clean if is_english(app[0])]\n",
    "\n",
    "# Print the number of remaining apps after removing non-English apps\n",
    "print('Number of English apps:', len(googleplay_english))"
   ]
  },
  {
   "cell_type": "code",
   "execution_count": 19,
   "metadata": {},
   "outputs": [],
   "source": [
    "# Function to detect if a string is in English, allowing up to 3 non-ASCII characters\n",
    "def is_english(string):\n",
    "    count_non_english = 0\n",
    "    for char in string:\n",
    "        if ord(char) > 127:\n",
    "            count_non_english += 1\n",
    "        if count_non_english > 3:  # Allow up to 3 non-ASCII characters\n",
    "            return False\n",
    "    return True\n"
   ]
  },
  {
   "cell_type": "code",
   "execution_count": 20,
   "metadata": {},
   "outputs": [
    {
     "name": "stdout",
     "output_type": "stream",
     "text": [
      "True\n",
      "True\n",
      "False\n"
     ]
    }
   ],
   "source": [
    "# Test the updated function with app names\n",
    "print(is_english('Docs To Go™ Free Office Suite'))  # Expected output: True\n",
    "print(is_english('Instachat 😜'))  # Expected output: True\n",
    "print(is_english('爱奇艺PPS -《欢乐颂2》电视剧热播'))  # Expected output: False\n"
   ]
  },
  {
   "cell_type": "code",
   "execution_count": 21,
   "metadata": {},
   "outputs": [
    {
     "name": "stdout",
     "output_type": "stream",
     "text": [
      "Number of English apps: 9614\n"
     ]
    }
   ],
   "source": [
    "# Filter out non-English apps from the cleaned Google Play dataset\n",
    "googleplay_english = [app for app in android_clean if is_english(app[0])]\n",
    "\n",
    "# Print the number of remaining apps after filtering non-English apps\n",
    "print('Number of English apps:', len(googleplay_english))\n"
   ]
  },
  {
   "cell_type": "code",
   "execution_count": 22,
   "metadata": {},
   "outputs": [
    {
     "name": "stdout",
     "output_type": "stream",
     "text": [
      "[['Photo Editor & Candy Camera & Grid & ScrapBook', 'ART_AND_DESIGN', '4.1', '159', '19M', '10,000+', 'Free', '0', 'Everyone', 'Art & Design', 'January 7, 2018', '1.0.0', '4.0.3 and up'], ['U Launcher Lite – FREE Live Cool Themes, Hide Apps', 'ART_AND_DESIGN', '4.7', '87510', '8.7M', '5,000,000+', 'Free', '0', 'Everyone', 'Art & Design', 'August 1, 2018', '1.2.4', '4.0.3 and up'], ['Sketch - Draw & Paint', 'ART_AND_DESIGN', '4.5', '215644', '25M', '50,000,000+', 'Free', '0', 'Teen', 'Art & Design', 'June 8, 2018', 'Varies with device', '4.2 and up'], ['Pixel Draw - Number Art Coloring Book', 'ART_AND_DESIGN', '4.3', '967', '2.8M', '100,000+', 'Free', '0', 'Everyone', 'Art & Design;Creativity', 'June 20, 2018', '1.1', '4.4 and up'], ['Paper flowers instructions', 'ART_AND_DESIGN', '4.4', '167', '5.6M', '50,000+', 'Free', '0', 'Everyone', 'Art & Design', 'March 26, 2017', '1.0', '2.3 and up']]\n"
     ]
    },
    {
     "ename": "NameError",
     "evalue": "name 'applestore_english' is not defined",
     "output_type": "error",
     "traceback": [
      "\u001b[0;31m---------------------------------------------------------------------------\u001b[0m",
      "\u001b[0;31mNameError\u001b[0m                                 Traceback (most recent call last)",
      "\u001b[0;32m<ipython-input-22-1a8cd2f57e3b>\u001b[0m in \u001b[0;36m<module>\u001b[0;34m\u001b[0m\n\u001b[1;32m      1\u001b[0m \u001b[0;31m# Explore the first few rows of the filtered datasets\u001b[0m\u001b[0;34m\u001b[0m\u001b[0;34m\u001b[0m\u001b[0;34m\u001b[0m\u001b[0m\n\u001b[1;32m      2\u001b[0m \u001b[0mprint\u001b[0m\u001b[0;34m(\u001b[0m\u001b[0mgoogleplay_english\u001b[0m\u001b[0;34m[\u001b[0m\u001b[0;34m:\u001b[0m\u001b[0;36m5\u001b[0m\u001b[0;34m]\u001b[0m\u001b[0;34m)\u001b[0m\u001b[0;34m\u001b[0m\u001b[0;34m\u001b[0m\u001b[0m\n\u001b[0;32m----> 3\u001b[0;31m \u001b[0mprint\u001b[0m\u001b[0;34m(\u001b[0m\u001b[0mapplestore_english\u001b[0m\u001b[0;34m[\u001b[0m\u001b[0;34m:\u001b[0m\u001b[0;36m5\u001b[0m\u001b[0;34m]\u001b[0m\u001b[0;34m)\u001b[0m\u001b[0;34m\u001b[0m\u001b[0;34m\u001b[0m\u001b[0m\n\u001b[0m",
      "\u001b[0;31mNameError\u001b[0m: name 'applestore_english' is not defined"
     ]
    }
   ],
   "source": [
    "# Explore the first few rows of the filtered datasets\n",
    "print(googleplay_english[:5])\n",
    "print(applestore_english[:5])\n"
   ]
  },
  {
   "cell_type": "code",
   "execution_count": 23,
   "metadata": {},
   "outputs": [
    {
     "name": "stdout",
     "output_type": "stream",
     "text": [
      "Number of free apps (Google Play): 8863\n"
     ]
    }
   ],
   "source": [
    "# Isolate free apps from the Google Play dataset\n",
    "googleplay_free = [app for app in googleplay_english if app[7] == '0']\n",
    "\n",
    "# Check how many free apps remain\n",
    "print('Number of free apps (Google Play):', len(googleplay_free))\n"
   ]
  },
  {
   "cell_type": "code",
   "execution_count": 1,
   "metadata": {},
   "outputs": [
    {
     "ename": "NameError",
     "evalue": "name 'applestore_english' is not defined",
     "output_type": "error",
     "traceback": [
      "\u001b[0;31m---------------------------------------------------------------------------\u001b[0m",
      "\u001b[0;31mNameError\u001b[0m                                 Traceback (most recent call last)",
      "\u001b[0;32m<ipython-input-1-7b37b3f86e12>\u001b[0m in \u001b[0;36m<module>\u001b[0;34m\u001b[0m\n\u001b[1;32m      1\u001b[0m \u001b[0;31m# Isolate free apps from the App Store dataset\u001b[0m\u001b[0;34m\u001b[0m\u001b[0;34m\u001b[0m\u001b[0;34m\u001b[0m\u001b[0m\n\u001b[0;32m----> 2\u001b[0;31m \u001b[0mapplestore_free\u001b[0m \u001b[0;34m=\u001b[0m \u001b[0;34m[\u001b[0m\u001b[0mapp\u001b[0m \u001b[0;32mfor\u001b[0m \u001b[0mapp\u001b[0m \u001b[0;32min\u001b[0m \u001b[0mapplestore_english\u001b[0m \u001b[0;32mif\u001b[0m \u001b[0mapp\u001b[0m\u001b[0;34m[\u001b[0m\u001b[0;36m4\u001b[0m\u001b[0;34m]\u001b[0m \u001b[0;34m==\u001b[0m \u001b[0;34m'0.0'\u001b[0m\u001b[0;34m]\u001b[0m  \u001b[0;31m# Assuming price is in column 4\u001b[0m\u001b[0;34m\u001b[0m\u001b[0;34m\u001b[0m\u001b[0m\n\u001b[0m\u001b[1;32m      3\u001b[0m \u001b[0;34m\u001b[0m\u001b[0m\n\u001b[1;32m      4\u001b[0m \u001b[0;31m# Check how many free apps remain\u001b[0m\u001b[0;34m\u001b[0m\u001b[0;34m\u001b[0m\u001b[0;34m\u001b[0m\u001b[0m\n\u001b[1;32m      5\u001b[0m \u001b[0mprint\u001b[0m\u001b[0;34m(\u001b[0m\u001b[0;34m'Number of free apps (App Store):'\u001b[0m\u001b[0;34m,\u001b[0m \u001b[0mlen\u001b[0m\u001b[0;34m(\u001b[0m\u001b[0mapplestore_free\u001b[0m\u001b[0;34m)\u001b[0m\u001b[0;34m)\u001b[0m\u001b[0;34m\u001b[0m\u001b[0;34m\u001b[0m\u001b[0m\n",
      "\u001b[0;31mNameError\u001b[0m: name 'applestore_english' is not defined"
     ]
    }
   ],
   "source": [
    "# Isolate free apps from the App Store dataset\n",
    "applestore_free = [app for app in applestore_english if app[4] == '0.0']  # Assuming price is in column 4\n",
    "\n",
    "# Check how many free apps remain\n",
    "print('Number of free apps (App Store):', len(applestore_free))\n"
   ]
  },
  {
   "cell_type": "code",
   "execution_count": 2,
   "metadata": {},
   "outputs": [
    {
     "name": "stdout",
     "output_type": "stream",
     "text": [
      "[['id', 'track_name', 'size_bytes', 'currency', 'price', 'rating_count_tot', 'rating_count_ver', 'user_rating', 'user_rating_ver', 'ver', 'cont_rating', 'prime_genre', 'sup_devices.num', 'ipadSc_urls.num', 'lang.num', 'vpp_lic'], ['284882215', 'Facebook', '389879808', 'USD', '0.0', '2974676', '212', '3.5', '3.5', '95.0', '4+', 'Social Networking', '37', '1', '29', '1'], ['389801252', 'Instagram', '113954816', 'USD', '0.0', '2161558', '1289', '4.5', '4.0', '10.23', '12+', 'Photo & Video', '37', '0', '29', '1'], ['529479190', 'Clash of Clans', '116476928', 'USD', '0.0', '2130805', '579', '4.5', '4.5', '9.24.12', '9+', 'Games', '38', '5', '18', '1'], ['420009108', 'Temple Run', '65921024', 'USD', '0.0', '1724546', '3842', '4.5', '4.0', '1.6.2', '9+', 'Games', '40', '5', '1', '1']]\n"
     ]
    }
   ],
   "source": [
    "import csv\n",
    "\n",
    "# Open and read the Apple Store dataset (make sure to use the correct file path)\n",
    "with open('AppleStore.csv', encoding='utf8') as file:\n",
    "    applestore_data = list(csv.reader(file))\n",
    "\n",
    "# Check the first few rows to confirm the data is loaded correctly\n",
    "print(applestore_data[:5])\n"
   ]
  },
  {
   "cell_type": "code",
   "execution_count": 3,
   "metadata": {},
   "outputs": [
    {
     "name": "stdout",
     "output_type": "stream",
     "text": [
      "Number of English apps (App Store): 6183\n"
     ]
    }
   ],
   "source": [
    "# Function to check if the app name is in English\n",
    "def is_english(string):\n",
    "    count_non_english = 0\n",
    "    for char in string:\n",
    "        if ord(char) > 127:\n",
    "            count_non_english += 1\n",
    "        if count_non_english > 3:  # Allow up to 3 non-English characters\n",
    "            return False\n",
    "    return True\n",
    "\n",
    "# Filter out non-English apps from the App Store dataset\n",
    "applestore_english = [app for app in applestore_data[1:] if is_english(app[1])]  # Assuming app name is in column 1\n",
    "\n",
    "# Check the number of English apps\n",
    "print('Number of English apps (App Store):', len(applestore_english))\n"
   ]
  },
  {
   "cell_type": "code",
   "execution_count": 4,
   "metadata": {},
   "outputs": [
    {
     "name": "stdout",
     "output_type": "stream",
     "text": [
      "Number of free apps (App Store): 3222\n"
     ]
    }
   ],
   "source": [
    "# Isolate free apps from the App Store dataset\n",
    "applestore_free = [app for app in applestore_english if app[4] == '0.0']  # Assuming price is in column 4\n",
    "\n",
    "# Check how many free apps remain\n",
    "print('Number of free apps (App Store):', len(applestore_free))\n"
   ]
  },
  {
   "cell_type": "code",
   "execution_count": 5,
   "metadata": {},
   "outputs": [],
   "source": [
    "# Function to generate frequency tables\n",
    "def freq_table(dataset, index):\n",
    "    table = {}\n",
    "    total = 0\n",
    "\n",
    "    # Loop through the dataset and count occurrences\n",
    "    for app in dataset:\n",
    "        total += 1\n",
    "        genre = app[index]\n",
    "        if genre in table:\n",
    "            table[genre] += 1\n",
    "        else:\n",
    "            table[genre] = 1\n",
    "\n",
    "    # Convert counts to percentages\n",
    "    table_percentages = {key: (value / total) * 100 for key, value in table.items()}\n",
    "    return table_percentages\n"
   ]
  },
  {
   "cell_type": "code",
   "execution_count": 2,
   "metadata": {
    "scrolled": true
   },
   "outputs": [
    {
     "name": "stdout",
     "output_type": "stream",
     "text": [
      "[['App', 'Category', 'Rating', 'Reviews', 'Size', 'Installs', 'Type', 'Price', 'Content Rating', 'Genres', 'Last Updated', 'Current Ver', 'Android Ver'], ['Photo Editor & Candy Camera & Grid & ScrapBook', 'ART_AND_DESIGN', '4.1', '159', '19M', '10,000+', 'Free', '0', 'Everyone', 'Art & Design', 'January 7, 2018', '1.0.0', '4.0.3 and up'], ['Coloring book moana', 'ART_AND_DESIGN', '3.9', '967', '14M', '500,000+', 'Free', '0', 'Everyone', 'Art & Design;Pretend Play', 'January 15, 2018', '2.0.0', '4.0.3 and up'], ['U Launcher Lite – FREE Live Cool Themes, Hide Apps', 'ART_AND_DESIGN', '4.7', '87510', '8.7M', '5,000,000+', 'Free', '0', 'Everyone', 'Art & Design', 'August 1, 2018', '1.2.4', '4.0.3 and up'], ['Sketch - Draw & Paint', 'ART_AND_DESIGN', '4.5', '215644', '25M', '50,000,000+', 'Free', '0', 'Teen', 'Art & Design', 'June 8, 2018', 'Varies with device', '4.2 and up']]\n",
      "[['App', 'Translated_Review', 'Sentiment', 'Sentiment_Polarity', 'Sentiment_Subjectivity'], ['10 Best Foods for You', 'I like eat delicious food. That\\'s I\\'m cooking food myself, case \"10 Best Foods\" helps lot, also \"Best Before (Shelf Life)\"', 'Positive', '1.0', '0.5333333333333333'], ['10 Best Foods for You', 'This help eating healthy exercise regular basis', 'Positive', '0.25', '0.28846153846153844'], ['10 Best Foods for You', 'nan', 'nan', 'nan', 'nan'], ['10 Best Foods for You', 'Works great especially going grocery store', 'Positive', '0.4', '0.875']]\n",
      "[['id', 'track_name', 'size_bytes', 'currency', 'price', 'rating_count_tot', 'rating_count_ver', 'user_rating', 'user_rating_ver', 'ver', 'cont_rating', 'prime_genre', 'sup_devices.num', 'ipadSc_urls.num', 'lang.num', 'vpp_lic'], ['284882215', 'Facebook', '389879808', 'USD', '0.0', '2974676', '212', '3.5', '3.5', '95.0', '4+', 'Social Networking', '37', '1', '29', '1'], ['389801252', 'Instagram', '113954816', 'USD', '0.0', '2161558', '1289', '4.5', '4.0', '10.23', '12+', 'Photo & Video', '37', '0', '29', '1'], ['529479190', 'Clash of Clans', '116476928', 'USD', '0.0', '2130805', '579', '4.5', '4.5', '9.24.12', '9+', 'Games', '38', '5', '18', '1'], ['420009108', 'Temple Run', '65921024', 'USD', '0.0', '1724546', '3842', '4.5', '4.0', '1.6.2', '9+', 'Games', '40', '5', '1', '1']]\n"
     ]
    }
   ],
   "source": [
    "import csv\n",
    "\n",
    "# Open and read the Google Play dataset\n",
    "with open('googleplaystore.csv', encoding='utf8') as file:\n",
    "    googleplay_data = list(csv.reader(file))\n",
    "\n",
    "# Open and read the Google Play User Reviews dataset\n",
    "with open('googleplaystore_user_reviews.csv', encoding='utf8') as file:\n",
    "    user_reviews_data = list(csv.reader(file))\n",
    "\n",
    "# Open and read the Apple Store dataset\n",
    "with open('AppleStore.csv', encoding='utf8') as file:\n",
    "    applestore_data = list(csv.reader(file))\n",
    "\n",
    "# Confirm the data is loaded correctly by printing the first few rows of each dataset\n",
    "print(googleplay_data[:5])\n",
    "print(user_reviews_data[:5])\n",
    "print(applestore_data[:5])"
   ]
  },
  {
   "cell_type": "code",
   "execution_count": 3,
   "metadata": {},
   "outputs": [
    {
     "name": "stdout",
     "output_type": "stream",
     "text": [
      "Number of free apps (Google Play): 10040\n"
     ]
    }
   ],
   "source": [
    "# Filter out non-free apps (assuming the price column is index 7)\n",
    "googleplay_free = [app for app in googleplay_data[1:] if app[7] == '0']\n",
    "\n",
    "# Check how many free apps remain\n",
    "print('Number of free apps (Google Play):', len(googleplay_free))"
   ]
  },
  {
   "cell_type": "code",
   "execution_count": 4,
   "metadata": {},
   "outputs": [
    {
     "name": "stdout",
     "output_type": "stream",
     "text": [
      "Number of free apps (Apple Store): 4056\n"
     ]
    }
   ],
   "source": [
    "# Filter out non-free apps (assuming the price column is index 4)\n",
    "applestore_free = [app for app in applestore_data[1:] if app[4] == '0.0']\n",
    "\n",
    "# Check how many free apps remain\n",
    "print('Number of free apps (Apple Store):', len(applestore_free))"
   ]
  },
  {
   "cell_type": "code",
   "execution_count": 5,
   "metadata": {
    "scrolled": false
   },
   "outputs": [
    {
     "name": "stdout",
     "output_type": "stream",
     "text": [
      "App Store - Prime Genre Frequency Table:\n",
      "Games : 55.64595660749507\n",
      "Entertainment : 8.234714003944774\n",
      "Photo & Video : 4.117357001972387\n",
      "Social Networking : 3.5256410256410255\n",
      "Education : 3.2544378698224854\n",
      "Shopping : 2.983234714003945\n",
      "Utilities : 2.687376725838264\n",
      "Lifestyle : 2.3175542406311638\n",
      "Finance : 2.0710059171597637\n",
      "Sports : 1.947731755424063\n",
      "Health & Fitness : 1.8737672583826428\n",
      "Music : 1.6518737672583828\n",
      "Book : 1.6272189349112427\n",
      "Productivity : 1.5285996055226825\n",
      "News : 1.4299802761341223\n",
      "Travel : 1.3806706114398422\n",
      "Food & Drink : 1.0601577909270217\n",
      "Weather : 0.7642998027613412\n",
      "Reference : 0.4930966469428008\n",
      "Navigation : 0.4930966469428008\n",
      "Business : 0.4930966469428008\n",
      "Catalogs : 0.22189349112426035\n",
      "Medical : 0.19723865877712032\n",
      "\n",
      "Google Play - Genres Frequency Table:\n",
      "Tools : 7.609561752988048\n",
      "Entertainment : 6.01593625498008\n",
      "Education : 5.169322709163347\n",
      "Business : 4.442231075697211\n",
      "Productivity : 3.944223107569721\n",
      "Sports : 3.7250996015936253\n",
      "Lifestyle : 3.6055776892430282\n",
      "Communication : 3.5856573705179287\n",
      "Medical : 3.5258964143426295\n",
      "Finance : 3.4760956175298805\n",
      "Action : 3.396414342629482\n",
      "Health & Fitness : 3.237051792828685\n",
      "Photography : 3.117529880478088\n",
      "Personalization : 3.0776892430278884\n",
      "Social : 2.908366533864542\n",
      "News & Magazines : 2.7988047808764938\n",
      "Shopping : 2.5697211155378485\n",
      "Travel & Local : 2.4402390438247012\n",
      "Dating : 2.2609561752988045\n",
      "Books & Reference : 2.0219123505976095\n",
      "Arcade : 1.9920318725099602\n",
      "Simulation : 1.902390438247012\n",
      "Casual : 1.8326693227091633\n",
      "Video Players & Editors : 1.6832669322709164\n",
      "Maps & Navigation : 1.3147410358565739\n",
      "Food & Drink : 1.245019920318725\n",
      "Puzzle : 1.205179282868526\n",
      "Racing : 0.9462151394422311\n",
      "Strategy : 0.9362549800796812\n",
      "House & Home : 0.8764940239043826\n",
      "Role Playing : 0.8665338645418327\n",
      "Libraries & Demo : 0.8366533864541833\n",
      "Auto & Vehicles : 0.8167330677290837\n",
      "Weather : 0.7370517928286853\n",
      "Events : 0.6274900398406374\n",
      "Adventure : 0.6274900398406374\n",
      "Comics : 0.5876494023904383\n",
      "Art & Design : 0.5478087649402391\n",
      "Beauty : 0.5278884462151394\n",
      "Parenting : 0.4382470119521913\n",
      "Education;Education : 0.4382470119521913\n",
      "Card : 0.40836653386454186\n",
      "Trivia : 0.3784860557768924\n",
      "Educational;Education : 0.3784860557768924\n",
      "Casino : 0.3784860557768924\n",
      "Board : 0.348605577689243\n",
      "Educational : 0.32868525896414347\n",
      "Word : 0.2888446215139442\n",
      "Entertainment;Music & Video : 0.26892430278884466\n",
      "Casual;Pretend Play : 0.24900398406374502\n",
      "Music : 0.20916334661354583\n",
      "Casual;Action & Adventure : 0.199203187250996\n",
      "Racing;Action & Adventure : 0.1892430278884462\n",
      "Puzzle;Brain Games : 0.1693227091633466\n",
      "Educational;Pretend Play : 0.13944223107569723\n",
      "Action;Action & Adventure : 0.13944223107569723\n",
      "Casual;Brain Games : 0.1294820717131474\n",
      "Arcade;Action & Adventure : 0.1195219123505976\n",
      "Simulation;Action & Adventure : 0.10956175298804782\n",
      "Adventure;Action & Adventure : 0.10956175298804782\n",
      "Entertainment;Brain Games : 0.0796812749003984\n",
      "Education;Pretend Play : 0.0796812749003984\n",
      "Board;Brain Games : 0.0796812749003984\n",
      "Parenting;Education : 0.06972111553784861\n",
      "Casual;Creativity : 0.06972111553784861\n",
      "Art & Design;Creativity : 0.06972111553784861\n",
      "Role Playing;Action & Adventure : 0.0597609561752988\n",
      "Parenting;Music & Video : 0.0597609561752988\n",
      "Educational;Brain Games : 0.0597609561752988\n",
      "Role Playing;Pretend Play : 0.049800796812749\n",
      "Puzzle;Action & Adventure : 0.049800796812749\n",
      "Education;Music & Video : 0.049800796812749\n",
      "Education;Creativity : 0.049800796812749\n",
      "Educational;Action & Adventure : 0.0398406374501992\n",
      "Education;Brain Games : 0.0398406374501992\n",
      "Education;Action & Adventure : 0.0398406374501992\n",
      "Video Players & Editors;Music & Video : 0.0298804780876494\n",
      "Simulation;Pretend Play : 0.0298804780876494\n",
      "Entertainment;Creativity : 0.0298804780876494\n",
      "Entertainment;Action & Adventure : 0.0298804780876494\n",
      "Educational;Creativity : 0.0298804780876494\n",
      "Video Players & Editors;Creativity : 0.0199203187250996\n",
      "Sports;Action & Adventure : 0.0199203187250996\n",
      "Puzzle;Creativity : 0.0199203187250996\n",
      "Music;Music & Video : 0.0199203187250996\n",
      "Entertainment;Pretend Play : 0.0199203187250996\n",
      "Casual;Music & Video : 0.0199203187250996\n",
      "Casual;Education : 0.0199203187250996\n",
      "Board;Action & Adventure : 0.0199203187250996\n",
      "Art & Design;Pretend Play : 0.0199203187250996\n",
      "Art & Design;Action & Adventure : 0.0199203187250996\n",
      "Adventure;Education : 0.0199203187250996\n",
      "Trivia;Education : 0.0099601593625498\n",
      "Travel & Local;Action & Adventure : 0.0099601593625498\n",
      "Tools;Education : 0.0099601593625498\n",
      "Strategy;Education : 0.0099601593625498\n",
      "Strategy;Creativity : 0.0099601593625498\n",
      "Strategy;Action & Adventure : 0.0099601593625498\n",
      "Simulation;Education : 0.0099601593625498\n",
      "Role Playing;Brain Games : 0.0099601593625498\n",
      "Racing;Pretend Play : 0.0099601593625498\n",
      "Puzzle;Education : 0.0099601593625498\n",
      "Parenting;Brain Games : 0.0099601593625498\n",
      "Music & Audio;Music & Video : 0.0099601593625498\n",
      "Lifestyle;Pretend Play : 0.0099601593625498\n",
      "Lifestyle;Education : 0.0099601593625498\n",
      "Health & Fitness;Education : 0.0099601593625498\n",
      "Health & Fitness;Action & Adventure : 0.0099601593625498\n",
      "Entertainment;Education : 0.0099601593625498\n",
      "Communication;Creativity : 0.0099601593625498\n",
      "Comics;Creativity : 0.0099601593625498\n",
      "Card;Brain Games : 0.0099601593625498\n",
      "Card;Action & Adventure : 0.0099601593625498\n",
      "Books & Reference;Education : 0.0099601593625498\n",
      "Arcade;Pretend Play : 0.0099601593625498\n",
      "\n",
      "Google Play - Category Frequency Table:\n",
      "FAMILY : 17.739043824701195\n",
      "GAME : 10.56772908366534\n",
      "TOOLS : 7.6195219123505975\n",
      "BUSINESS : 4.442231075697211\n",
      "PRODUCTIVITY : 3.944223107569721\n",
      "LIFESTYLE : 3.6155378486055776\n",
      "SPORTS : 3.5856573705179287\n",
      "COMMUNICATION : 3.5856573705179287\n",
      "MEDICAL : 3.5258964143426295\n",
      "FINANCE : 3.4760956175298805\n",
      "HEALTH_AND_FITNESS : 3.237051792828685\n",
      "PHOTOGRAPHY : 3.117529880478088\n",
      "PERSONALIZATION : 3.0776892430278884\n",
      "SOCIAL : 2.908366533864542\n",
      "NEWS_AND_MAGAZINES : 2.7988047808764938\n",
      "SHOPPING : 2.5697211155378485\n",
      "TRAVEL_AND_LOCAL : 2.450199203187251\n",
      "DATING : 2.2609561752988045\n",
      "BOOKS_AND_REFERENCE : 2.0219123505976095\n",
      "VIDEO_PLAYERS : 1.7031872509960162\n",
      "EDUCATION : 1.5139442231075697\n",
      "ENTERTAINMENT : 1.4641434262948207\n",
      "MAPS_AND_NAVIGATION : 1.3147410358565739\n",
      "FOOD_AND_DRINK : 1.245019920318725\n",
      "HOUSE_AND_HOME : 0.8764940239043826\n",
      "LIBRARIES_AND_DEMO : 0.8366533864541833\n",
      "AUTO_AND_VEHICLES : 0.8167330677290837\n",
      "WEATHER : 0.7370517928286853\n",
      "EVENTS : 0.6274900398406374\n",
      "ART_AND_DESIGN : 0.6175298804780877\n",
      "COMICS : 0.5976095617529881\n",
      "PARENTING : 0.5776892430278884\n",
      "BEAUTY : 0.5278884462151394\n"
     ]
    }
   ],
   "source": [
    "# Function to generate frequency tables\n",
    "def freq_table(dataset, index):\n",
    "    table = {}\n",
    "    total = 0\n",
    "\n",
    "    # Loop through the dataset and count occurrences\n",
    "    for app in dataset:\n",
    "        total += 1\n",
    "        genre = app[index]\n",
    "        if genre in table:\n",
    "            table[genre] += 1\n",
    "        else:\n",
    "            table[genre] = 1\n",
    "\n",
    "    # Convert counts to percentages\n",
    "    table_percentages = {key: (value / total) * 100 for key, value in table.items()}\n",
    "    return table_percentages\n",
    "\n",
    "# Function to display the frequency table in descending order\n",
    "def display_table(dataset, index):\n",
    "    table = freq_table(dataset, index)  # Generate the frequency table\n",
    "    table_display = []\n",
    "    \n",
    "    # Transform into list of tuples (value, key) for sorting\n",
    "    for key in table:\n",
    "        key_val_as_tuple = (table[key], key)\n",
    "        table_display.append(key_val_as_tuple)\n",
    "    \n",
    "    # Sort the list in descending order by percentage\n",
    "    table_sorted = sorted(table_display, reverse=True)\n",
    "    \n",
    "    # Display the sorted table\n",
    "    for entry in table_sorted:\n",
    "        print(entry[1], \":\", entry[0])\n",
    "\n",
    "# Display frequency tables for prime_genre in the Apple Store dataset\n",
    "print(\"App Store - Prime Genre Frequency Table:\")\n",
    "display_table(applestore_free, 11)  # Assuming prime_genre is at index 11\n",
    "\n",
    "# Display frequency tables for Genres and Category in the Google Play dataset\n",
    "print(\"\\nGoogle Play - Genres Frequency Table:\")\n",
    "display_table(googleplay_free, 9)  # Assuming Genres is at index 9\n",
    "\n",
    "print(\"\\nGoogle Play - Category Frequency Table:\")\n",
    "display_table(googleplay_free, 1)  # Assuming Category is at index 1"
   ]
  },
  {
   "cell_type": "code",
   "execution_count": 6,
   "metadata": {},
   "outputs": [
    {
     "name": "stdout",
     "output_type": "stream",
     "text": [
      "prime_genre : 0.00\n",
      "Social Networking : 45498.90\n",
      "Photo & Video : 14352.28\n",
      "Games : 13692.00\n",
      "Music : 28842.02\n",
      "Reference : 22410.84\n",
      "Health & Fitness : 9913.17\n",
      "Weather : 22181.03\n",
      "Utilities : 6863.82\n",
      "Travel : 14129.44\n",
      "Shopping : 18615.33\n",
      "News : 13015.07\n",
      "Navigation : 11853.96\n",
      "Lifestyle : 6161.76\n",
      "Entertainment : 7533.68\n",
      "Food & Drink : 13938.62\n",
      "Sports : 14026.93\n",
      "Book : 5125.44\n",
      "Finance : 11047.65\n",
      "Education : 2239.23\n",
      "Productivity : 8051.33\n",
      "Business : 4788.09\n",
      "Catalogs : 1732.50\n",
      "Medical : 592.78\n"
     ]
    }
   ],
   "source": [
    "# Generate a frequency table for the prime_genre column to get unique genres\n",
    "genres_frequency = freq_table(applestore_data, 11)  # prime_genre column is at index 11\n",
    "\n",
    "# Loop through each unique genre\n",
    "for genre in genres_frequency:\n",
    "    total = 0  # This variable will store the sum of user ratings\n",
    "    len_genre = 0  # This will store the number of apps in that genre\n",
    "    \n",
    "    # Loop through the App Store dataset\n",
    "    for app in applestore_data[1:]:  # Skipping the header row\n",
    "        genre_app = app[11]  # prime_genre column is at index 11\n",
    "        \n",
    "        if genre_app == genre:\n",
    "            n_ratings = float(app[5])  # rating_count_tot column is at index 5\n",
    "            total += n_ratings\n",
    "            len_genre += 1\n",
    "    \n",
    "    # Calculate the average number of user ratings per genre\n",
    "    if len_genre > 0:  # Avoid division by zero\n",
    "        avg_ratings = total / len_genre\n",
    "    else:\n",
    "        avg_ratings = 0\n",
    "    \n",
    "    # Print the genre and its average user rating\n",
    "    print(f\"{genre} : {avg_ratings:.2f}\")"
   ]
  },
  {
   "cell_type": "code",
   "execution_count": 7,
   "metadata": {},
   "outputs": [
    {
     "name": "stdout",
     "output_type": "stream",
     "text": [
      "Category : 0.00\n",
      "ART_AND_DESIGN : 1912893.85\n",
      "AUTO_AND_VEHICLES : 625061.31\n",
      "BEAUTY : 513151.89\n",
      "BOOKS_AND_REFERENCE : 8318050.11\n",
      "BUSINESS : 2178075.79\n",
      "COMICS : 934769.17\n",
      "COMMUNICATION : 84359886.95\n",
      "DATING : 1129533.36\n",
      "EDUCATION : 5586230.77\n",
      "ENTERTAINMENT : 19256107.38\n",
      "EVENTS : 249580.64\n",
      "FINANCE : 2395215.12\n",
      "FOOD_AND_DRINK : 2156683.08\n",
      "HEALTH_AND_FITNESS : 4642441.38\n",
      "HOUSE_AND_HOME : 1917187.06\n",
      "LIBRARIES_AND_DEMO : 741128.35\n",
      "LIFESTYLE : 1407443.82\n",
      "GAME : 30669601.76\n",
      "FAMILY : 5201959.18\n",
      "MEDICAL : 115026.86\n",
      "SOCIAL : 47694467.46\n",
      "SHOPPING : 12491726.10\n",
      "PHOTOGRAPHY : 30114172.10\n",
      "SPORTS : 4560350.26\n",
      "TRAVEL_AND_LOCAL : 26623593.59\n",
      "TOOLS : 13585731.81\n",
      "PERSONALIZATION : 5932384.65\n",
      "PRODUCTIVITY : 33434177.76\n",
      "PARENTING : 525351.83\n",
      "WEATHER : 5196347.80\n",
      "VIDEO_PLAYERS : 35554301.26\n",
      "NEWS_AND_MAGAZINES : 26488755.34\n",
      "MAPS_AND_NAVIGATION : 5286729.12\n"
     ]
    },
    {
     "ename": "ValueError",
     "evalue": "could not convert string to float: 'Free'",
     "output_type": "error",
     "traceback": [
      "\u001b[0;31m---------------------------------------------------------------------------\u001b[0m",
      "\u001b[0;31mValueError\u001b[0m                                Traceback (most recent call last)",
      "\u001b[0;32m<ipython-input-7-4986c035a129>\u001b[0m in \u001b[0;36m<module>\u001b[0;34m\u001b[0m\n\u001b[1;32m     14\u001b[0m             \u001b[0;31m# Clean the 'Installs' column by removing commas and the '+' sign\u001b[0m\u001b[0;34m\u001b[0m\u001b[0;34m\u001b[0m\u001b[0;34m\u001b[0m\u001b[0m\n\u001b[1;32m     15\u001b[0m             \u001b[0minstalls\u001b[0m \u001b[0;34m=\u001b[0m \u001b[0mapp\u001b[0m\u001b[0;34m[\u001b[0m\u001b[0;36m5\u001b[0m\u001b[0;34m]\u001b[0m\u001b[0;34m.\u001b[0m\u001b[0mreplace\u001b[0m\u001b[0;34m(\u001b[0m\u001b[0;34m','\u001b[0m\u001b[0;34m,\u001b[0m \u001b[0;34m''\u001b[0m\u001b[0;34m)\u001b[0m\u001b[0;34m.\u001b[0m\u001b[0mreplace\u001b[0m\u001b[0;34m(\u001b[0m\u001b[0;34m'+'\u001b[0m\u001b[0;34m,\u001b[0m \u001b[0;34m''\u001b[0m\u001b[0;34m)\u001b[0m  \u001b[0;31m# Installs is at index 5\u001b[0m\u001b[0;34m\u001b[0m\u001b[0;34m\u001b[0m\u001b[0m\n\u001b[0;32m---> 16\u001b[0;31m             \u001b[0minstalls\u001b[0m \u001b[0;34m=\u001b[0m \u001b[0mfloat\u001b[0m\u001b[0;34m(\u001b[0m\u001b[0minstalls\u001b[0m\u001b[0;34m)\u001b[0m  \u001b[0;31m# Convert the cleaned string to float\u001b[0m\u001b[0;34m\u001b[0m\u001b[0;34m\u001b[0m\u001b[0m\n\u001b[0m\u001b[1;32m     17\u001b[0m \u001b[0;34m\u001b[0m\u001b[0m\n\u001b[1;32m     18\u001b[0m             \u001b[0mtotal\u001b[0m \u001b[0;34m+=\u001b[0m \u001b[0minstalls\u001b[0m  \u001b[0;31m# Add the number of installs to total\u001b[0m\u001b[0;34m\u001b[0m\u001b[0;34m\u001b[0m\u001b[0m\n",
      "\u001b[0;31mValueError\u001b[0m: could not convert string to float: 'Free'"
     ]
    }
   ],
   "source": [
    "# Function to generate frequency table for the Category column\n",
    "genres_frequency = freq_table(googleplay_data, 1)  # Category column is at index 1\n",
    "\n",
    "# Loop through each unique genre in the Category column\n",
    "for category in genres_frequency:\n",
    "    total = 0  # Variable to store the sum of installs\n",
    "    len_category = 0  # Variable to store the number of apps in this category\n",
    "    \n",
    "    # Loop through the Google Play dataset\n",
    "    for app in googleplay_data[1:]:  # Skip the header row\n",
    "        category_app = app[1]  # Category is at index 1\n",
    "        \n",
    "        if category_app == category:\n",
    "            # Clean the 'Installs' column by removing commas and the '+' sign\n",
    "            installs = app[5].replace(',', '').replace('+', '')  # Installs is at index 5\n",
    "            installs = float(installs)  # Convert the cleaned string to float\n",
    "            \n",
    "            total += installs  # Add the number of installs to total\n",
    "            len_category += 1  # Increment the app count for this category\n",
    "    \n",
    "    # Calculate the average installs per category\n",
    "    if len_category > 0:  # Avoid division by zero\n",
    "        avg_installs = total / len_category\n",
    "    else:\n",
    "        avg_installs = 0\n",
    "    \n",
    "    # Print the category and its average installs\n",
    "    print(f\"{category} : {avg_installs:.2f}\")\n"
   ]
  },
  {
   "cell_type": "code",
   "execution_count": null,
   "metadata": {},
   "outputs": [],
   "source": []
  }
 ],
 "metadata": {
  "kernelspec": {
   "display_name": "Python 3",
   "language": "python",
   "name": "python3"
  },
  "language_info": {
   "codemirror_mode": {
    "name": "ipython",
    "version": 3
   },
   "file_extension": ".py",
   "mimetype": "text/x-python",
   "name": "python",
   "nbconvert_exporter": "python",
   "pygments_lexer": "ipython3",
   "version": "3.8.2"
  }
 },
 "nbformat": 4,
 "nbformat_minor": 2
}
